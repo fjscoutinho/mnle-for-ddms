{
 "cells": [
  {
   "cell_type": "code",
   "execution_count": 1,
   "id": "835b1b13",
   "metadata": {},
   "outputs": [],
   "source": [
    "import matplotlib.pyplot as plt\n",
    "import numpy as np\n",
    "import pickle\n",
    "import time\n",
    "import torch\n",
    "\n",
    "import sbibm"
   ]
  },
  {
   "cell_type": "code",
   "execution_count": 2,
   "id": "0c1d04ad",
   "metadata": {},
   "outputs": [
    {
     "name": "stdout",
     "output_type": "stream",
     "text": [
      "seed 223174\n"
     ]
    }
   ],
   "source": [
    "# Plotting settings\n",
    "plt.style.use(\"plotting_settings.mplstyle\")\n",
    "# Colorblind color palette\n",
    "colors = [\n",
    "    \"#377eb8\",\n",
    "    \"#ff7f00\",\n",
    "    \"#4daf4a\",\n",
    "    \"#f781bf\",\n",
    "    \"#a65628\",\n",
    "    \"#984ea3\",\n",
    "    \"#999999\",\n",
    "    \"#e41a1c\",\n",
    "    \"#dede00\",\n",
    "]\n",
    "\n",
    "# Fix seed for figures.\n",
    "seed = 223174  # torch.randint(1000000, (1,))\n",
    "torch.manual_seed(seed)\n",
    "print(f\"seed {seed}\")"
   ]
  },
  {
   "cell_type": "markdown",
   "id": "ce1d2a31",
   "metadata": {},
   "source": [
    "## Load DDM task from `sbibm`"
   ]
  },
  {
   "cell_type": "code",
   "execution_count": 3,
   "id": "5279e900",
   "metadata": {},
   "outputs": [],
   "source": [
    "task = sbibm.get_task(\"ddm\")\n",
    "prior = task.get_prior_dist()\n",
    "simulator = task.get_simulator(seed=seed)  # Passing the seed to Julia."
   ]
  },
  {
   "cell_type": "code",
   "execution_count": 4,
   "id": "70e92c01",
   "metadata": {},
   "outputs": [],
   "source": [
    "# Load pretrained NLE model\n",
    "with open(\"mnle-lan-comparison/models/mnle_n100000_new_seed205898.p\", \"rb\") as fh:\n",
    "    mnle = pickle.load(fh)[\"estimator\"]"
   ]
  },
  {
   "cell_type": "code",
   "execution_count": 5,
   "id": "edf671c1",
   "metadata": {},
   "outputs": [
    {
     "name": "stdout",
     "output_type": "stream",
     "text": [
      "seed 765789\n"
     ]
    },
    {
     "name": "stderr",
     "output_type": "stream",
     "text": [
      "/home/janfb/.local/lib/python3.7/site-packages/julia/core.py:691: FutureWarning: Accessing `Julia().<name>` to obtain Julia objects is deprecated.  Use `from julia import Main; Main.<name>` or `jl = Julia(); jl.eval('<name>')`.\n",
      "  FutureWarning,\n",
      "findfont: Font family ['sans-serif'] not found. Falling back to DejaVu Sans.\n",
      "findfont: Generic family 'sans-serif' not found because none of the following families were found: open-sans\n",
      "findfont: Font family ['sans-serif'] not found. Falling back to DejaVu Sans.\n",
      "findfont: Generic family 'sans-serif' not found because none of the following families were found: open-sans\n",
      "findfont: Font family ['sans-serif'] not found. Falling back to DejaVu Sans.\n",
      "findfont: Generic family 'sans-serif' not found because none of the following families were found: open-sans\n"
     ]
    },
    {
     "data": {
      "image/png": "[encoded data removed]",
      "text/plain": [
       "<Figure size 1008x288 with 3 Axes>"
      ]
     },
     "metadata": {
      "needs_background": "light"
     },
     "output_type": "display_data"
    }
   ],
   "source": [
    "num_examples = 3\n",
    "show_density = True\n",
    "fig, ax = plt.subplots(1, num_examples, figsize=(14, 4), sharex=False, sharey=False)\n",
    "seed = 765789  # torch.randint(1000000, (1,))\n",
    "torch.manual_seed(seed)\n",
    "print(f\"seed {seed}\")\n",
    "alpha = 0.9\n",
    "\n",
    "nbins = 150\n",
    "num_samples = 10000\n",
    "for i in range(num_examples):\n",
    "    # Simulate\n",
    "    tho = prior.sample((1,))\n",
    "    #     tho[0, -1] = 0.2\n",
    "    xo = simulator(tho.repeat(num_samples, 1))\n",
    "    x_mnle = mnle.sample(tho, num_samples)\n",
    "    x_mnle[x_mnle[:, 1] == 0, 0] *= -1\n",
    "    x_mnle = x_mnle[:, 0]\n",
    "\n",
    "    # Plotting\n",
    "    plt.sca(ax if num_examples == 1 else ax[i])\n",
    "    c1, bins, _ = plt.hist(\n",
    "        xo.numpy(),\n",
    "        bins=nbins,\n",
    "        alpha=alpha,\n",
    "        label=\"DDM simulator\",\n",
    "        color=colors[3],\n",
    "        density=show_density,\n",
    "        histtype=\"step\",\n",
    "        linewidth=2.5,\n",
    "    )\n",
    "    c2, _, _ = plt.hist(\n",
    "        x_mnle.numpy(),\n",
    "        bins=bins,\n",
    "        alpha=alpha,\n",
    "        label=\"MNLE emulator\",\n",
    "        color=colors[2],\n",
    "        density=show_density,\n",
    "        histtype=\"step\",\n",
    "        linewidth=2.5,\n",
    "    )\n",
    "\n",
    "    if i == 0:\n",
    "        plt.legend()\n",
    "\n",
    "    # fix yticks.\n",
    "    maxcount = round(max(c1.max(), c2.max()), 1)\n",
    "    if maxcount % 2:\n",
    "        maxcount += 1\n",
    "    plt.ylim(0, maxcount)\n",
    "    plt.yticks(np.linspace(0, maxcount, 3))\n",
    "\n",
    "    # xticks\n",
    "    plt.xlabel(\"$x$: reaction time [s]\")\n",
    "    plt.xticks([-2, -1, 0, 1, 2], [2, 1, 0, 1, 2])\n",
    "    plt.xlim(-2, 2)\n",
    "\n",
    "    # yticks\n",
    "    plt.gca().spines.left.set_visible(False)\n",
    "    plt.ylim(-0.1, 3.2)\n",
    "    plt.yticks([])\n",
    "\n",
    "y1 = 0.95\n",
    "x1 = 0.005\n",
    "dx = 0.34\n",
    "weight = \"bold\"\n",
    "fontsize = 20\n",
    "fig.text(x1, y1, \"a\", fontsize=fontsize, fontweight=weight)\n",
    "fig.text(x1 + dx, y1, \"b\", fontsize=fontsize, fontweight=weight)\n",
    "fig.text(x1 + 1.9 * dx, y1, \"c\", fontsize=fontsize, fontweight=weight)\n",
    "\n",
    "plt.tight_layout()\n",
    "fig.savefig(\"figures/FigureA4-MNLE-synthetic-data.png\", dpi=300, bbox_inches=\"tight\")\n",
    "fig.savefig(\"figures/Figure 2--figure supplement 1.pdf\", dpi=400, bbox_inches=\"tight\");"
   ]
  },
  {
   "cell_type": "code",
   "execution_count": null,
   "id": "e08d702c",
   "metadata": {},
   "outputs": [],
   "source": []
  }
 ],
 "metadata": {
  "kernelspec": {
   "display_name": "Python 3 (ipykernel)",
   "language": "python",
   "name": "python3"
  },
  "language_info": {
   "codemirror_mode": {
    "name": "ipython",
    "version": 3
   },
   "file_extension": ".py",
   "mimetype": "text/x-python",
   "name": "python",
   "nbconvert_exporter": "python",
   "pygments_lexer": "ipython3",
   "version": "3.7.11"
  }
 },
 "nbformat": 4,
 "nbformat_minor": 5
}
